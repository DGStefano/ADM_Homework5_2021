{
 "cells": [
  {
   "cell_type": "code",
   "execution_count": 1,
   "id": "cf7546b6",
   "metadata": {},
   "outputs": [],
   "source": [
    "import pandas as pd\n",
    "import networkx as nx\n",
    "import datetime , time\n",
    "import numpy as np\n",
    "import datetime, time\n",
    "import matplotlib.pyplot as plt"
   ]
  },
  {
   "cell_type": "code",
   "execution_count": 2,
   "id": "d653716c",
   "metadata": {},
   "outputs": [],
   "source": [
    "def filterGraph(df, start_time, end_time):\n",
    "    return df[(start_time <= df['time']) & (df['time'] <= end_time)]"
   ]
  },
  {
   "cell_type": "code",
   "execution_count": 3,
   "id": "fe3d0bac",
   "metadata": {},
   "outputs": [],
   "source": [
    "def delete_edges (G , start_time , end_time):\n",
    "    s_tstmp = convert_date(start_time)\n",
    "    e_tstmp = convert_date(end_time)\n",
    "    \n",
    "    edges = [(u,v,att) for u,v,attr in G.edges(data=True) if e_tstmp < attr['tstmp'][0] < e_tstmp]\n",
    "    \n",
    "    H = nx.DiGraph()\n",
    "    H.add_edges_from(edges)\n",
    "    print (list(H.edges))\n",
    "    return H\n",
    "\n",
    "\n",
    "def convert_date(date):\n",
    "    converted_date = int(time.mktime(datetime.datetime.strptime(date, \"%Y/%m/%d\").timetuple()))\n",
    "    return converted_date"
   ]
  },
  {
   "cell_type": "code",
   "execution_count": 4,
   "id": "03c3446f",
   "metadata": {},
   "outputs": [],
   "source": [
    "def isDirect (G):\n",
    "    for u , v , attr in G.edges(data = True) :\n",
    "        if list(G.edges(u)) != list(G.edges(v)):\n",
    "            return False\n",
    "\n",
    "    return True"
   ]
  },
  {
   "cell_type": "code",
   "execution_count": 5,
   "id": "8822f91c",
   "metadata": {},
   "outputs": [],
   "source": [
    "atq = pd.read_csv('data/sx-stackoverflow-a2q.txt' , sep=' ' , names=['starting_node','end_node','time'] )\n",
    "ctq = pd.read_csv('data/sx-stackoverflow-c2a.txt' , sep=' ' , names=['starting_node','end_node','time'] )\n",
    "cta = pd.read_csv('data/sx-stackoverflow-c2q.txt' , sep=' ' , names=['starting_node','end_node','time'] )"
   ]
  },
  {
   "cell_type": "code",
   "execution_count": 6,
   "id": "5168cdfc",
   "metadata": {},
   "outputs": [],
   "source": [
    "date_start = datetime.datetime(2008, 8, 1,1,0,0)\n",
    "start_time = time.mktime(date_start.timetuple())\n",
    "date_end = datetime.datetime(2008, 10, 1,1,0,0)\n",
    "end_time = time.mktime(date_end.timetuple())"
   ]
  },
  {
   "cell_type": "code",
   "execution_count": 7,
   "id": "0fe2a1cb",
   "metadata": {},
   "outputs": [],
   "source": [
    "atq_filtered = filterGraph(atq , start_time , end_time )\n",
    "ctq_filtered = filterGraph(ctq , start_time , end_time )\n",
    "cta_filtered = filterGraph(cta , start_time , end_time )"
   ]
  },
  {
   "cell_type": "code",
   "execution_count": 8,
   "id": "0a51747c",
   "metadata": {},
   "outputs": [],
   "source": [
    "combined_graph = nx.DiGraph()"
   ]
  },
  {
   "cell_type": "code",
   "execution_count": 9,
   "id": "0a421d5b",
   "metadata": {},
   "outputs": [],
   "source": [
    "atq_graph = nx.DiGraph(None , data = True)\n",
    "cta_graph = nx.DiGraph(None, data = True )\n",
    "ctq_graph = nx.DiGraph(None , data = True )"
   ]
  },
  {
   "cell_type": "code",
   "execution_count": 10,
   "id": "7e463d01",
   "metadata": {},
   "outputs": [],
   "source": [
    "def graphWeighter (graph, edge_from_df) :\n",
    "    if graph.has_edge(edge_from_df['starting_node'] , edge_from_df['end_node']) :\n",
    "        graph[edge_from_df['starting_node']][edge_from_df['end_node']]['weight'] += 1\n",
    "        graph[edge_from_df['starting_node']][edge_from_df['end_node']]['tstmp'].append(edge_from_df['time'])\n",
    "    else:\n",
    "        graph.add_edge(edge_from_df['starting_node'] , edge_from_df['end_node'] , weight = 1 )\n",
    "        graph[edge_from_df['starting_node']][edge_from_df['end_node']]['tstmp'] = [edge_from_df['time']]"
   ]
  },
  {
   "cell_type": "code",
   "execution_count": 11,
   "id": "422d6c42",
   "metadata": {},
   "outputs": [
    {
     "data": {
      "text/plain": [
       "0           None\n",
       "1           None\n",
       "2           None\n",
       "3           None\n",
       "4           None\n",
       "            ... \n",
       "24268549    None\n",
       "25180945    None\n",
       "25180946    None\n",
       "25180947    None\n",
       "25180948    None\n",
       "Length: 21492, dtype: object"
      ]
     },
     "execution_count": 11,
     "metadata": {},
     "output_type": "execute_result"
    }
   ],
   "source": [
    "atq_filtered.apply(lambda x :graphWeighter( atq_graph , x) , axis=1)\n",
    "cta_filtered.apply(lambda x :graphWeighter( cta_graph , x) , axis=1)\n",
    "ctq_filtered.apply(lambda x :graphWeighter( ctq_graph , x) , axis=1)"
   ]
  },
  {
   "cell_type": "code",
   "execution_count": 12,
   "id": "96b9ae44",
   "metadata": {},
   "outputs": [],
   "source": [
    "combined_graph = nx.compose_all([atq_graph , cta_graph , ctq_graph])"
   ]
  },
  {
   "cell_type": "code",
   "execution_count": 13,
   "id": "2d4e4994",
   "metadata": {},
   "outputs": [],
   "source": [
    "def areSame(matrix_A, matrix_B , n ) :\n",
    "    for i in range(n):\n",
    "        for j in range(n):\n",
    "            if (matrix_A[i,j] != matrix_B[i,j]):\n",
    "                return 0\n",
    "    return 1\n",
    "\n",
    "def GraphDescription (graph) :\n",
    "    \n",
    "    direct = True\n",
    "    number_interactions = 0\n",
    "    #assess if the graph is directed or not\n",
    "    graph_adjm = nx.to_numpy_matrix(graph)\n",
    "\n",
    "    #find number of users\n",
    "    nodes_number = graph_adjm.shape[0]\n",
    "    print(\"the number of users is {}\".format(nodes_number))\n",
    "\n",
    "\n",
    "    #If the matrix is not symmetric means that the graph is directed\n",
    "    if areSame(graph_adjm, graph_adjm.transpose() , nodes_number) :\n",
    "        direct = False\n",
    "        print('The graph is not directed')\n",
    "    else:\n",
    "        direct = True\n",
    "        print('The graph is directed')\n",
    "\n",
    "    #numebr of answere/comments\n",
    "    number_interactions = (graph_adjm != 0).sum()\n",
    "    \n",
    "    \n",
    "    #Second version that scann each position of the adjucency matrix and sum all the non-zero value\n",
    "    \n",
    "    #for i in range(nodes_number):\n",
    "    #   for j in range(nodes_number) :\n",
    "    #        if graph_adjm[i,j] != 0 :\n",
    "    #            number_interactions += 1\n",
    " \n",
    "    print(\"number of question/comments is {}\".format(number_interactions))\n",
    "    avg_link_user = number_interactions/nodes_number\n",
    "    print(\"number of link per user {}\".format(avg_link_user))\n",
    "    \n",
    "    #graph density and sparsness\n",
    "    if direct :\n",
    "        density = 2*number_interactions / (nodes_number*(nodes_number-1))\n",
    "    else :\n",
    "        density = number_interactions / (nodes_number*(nodes_number-1))\n",
    "    \n",
    "    density_definition = 'dense' if density>0.5 else 'sparse'\n",
    "    \n",
    "    print('the grpah density is {} then the graph is {}'.format(density , density_definition))\n",
    "    \n",
    "    return (nodes_number , direct , number_interactions , avg_link_user , density , density_definition)\n",
    "    "
   ]
  },
  {
   "cell_type": "code",
   "execution_count": 14,
   "id": "d8622c14",
   "metadata": {
    "scrolled": false
   },
   "outputs": [
    {
     "name": "stdout",
     "output_type": "stream",
     "text": [
      "the number of users is 9837\n",
      "The graph is directed\n",
      "number of question/comments is 68232\n",
      "number of link per user 6.936261055199756\n",
      "the grpah density is 0.0014103824837738421 then the graph is sparse\n"
     ]
    },
    {
     "data": {
      "text/plain": [
       "(9837, True, 68232, 6.936261055199756, 0.0014103824837738421, 'sparse')"
      ]
     },
     "execution_count": 14,
     "metadata": {},
     "output_type": "execute_result"
    }
   ],
   "source": [
    "GraphDescription(atq_graph)"
   ]
  },
  {
   "cell_type": "code",
   "execution_count": 15,
   "id": "220796a9",
   "metadata": {},
   "outputs": [],
   "source": [
    "def Betweeness (G , i) :\n",
    "    nodes_number = len(G.nodes)\n",
    "    S = 0\n",
    "    no_dir = 0\n",
    "    \n",
    "    all_nodes = list(G.nodes)\n",
    "    all_nodes.remove(i)\n",
    "    \n",
    "    for s in all_nodes :\n",
    "        for t in all_nodes :\n",
    "            paths_sti = 0\n",
    "            no_dir = 0\n",
    "            \n",
    "            try :\n",
    "                paths_st = [p for p in nx.all_shortest_paths(G , source = s , target = t ) ]\n",
    "            except:\n",
    "                no_dir = 1\n",
    "            \n",
    "            if no_dir == 0 :\n",
    "                for element in paths_st :\n",
    "                    paths_sti += 1 \n",
    "                if paths_sti > 0 and len(paths_st) > 0 :\n",
    "                    S += paths_sti/len(paths_st)\n",
    "    \n",
    "    try :\n",
    "        all_nodes.remove(s)\n",
    "    except:\n",
    "        pass\n",
    "    \n",
    "    if S > 0 :\n",
    "        return S / ((nodes_number-1) * (nodes_number-2))\n",
    "    \n",
    "    else :\n",
    "        return (print ('Betweenes = 0'))"
   ]
  },
  {
   "cell_type": "code",
   "execution_count": 20,
   "id": "7138e6e4",
   "metadata": {},
   "outputs": [],
   "source": [
    "list(combined_graph.nodes).remove(8)"
   ]
  },
  {
   "cell_type": "code",
   "execution_count": 21,
   "id": "8712ad6a",
   "metadata": {},
   "outputs": [
    {
     "data": {
      "text/plain": [
       "0.5223850223850224"
      ]
     },
     "execution_count": 21,
     "metadata": {},
     "output_type": "execute_result"
    }
   ],
   "source": [
    "Betweeness(combined_graph , 8 )"
   ]
  },
  {
   "cell_type": "code",
   "execution_count": 16,
   "id": "15e20bc9",
   "metadata": {},
   "outputs": [],
   "source": [
    "def PageRank (G , intereset_node , d = 0.85 , max_iter = 100) :\n",
    "    all_nodes = list(G.nodes)\n",
    "    nodes_number = len(all_nodes)\n",
    "    \n",
    "    \n",
    "    PR_0 = {node : 1/ nodes_number -1 for node in all_nodes}\n",
    "    outgoing_edges = {node : G.out_degree(node , weight = 'weight') for node in all_nodes}\n",
    "    \n",
    "    PR_t = PR_0.copy()\n",
    "    \n",
    "    for _ in range(max_iter) :\n",
    "        for node in PR_t :\n",
    "            in_nodes = [int(i[0]) for i in G.in_edges(node)]\n",
    "            sum_of_neigh = sum([ PR_t[node] / outgoing_edges[node]  for node in in_nodes])\n",
    "            \n",
    "            PR_t[node] = (1-d)/nodes_number + d*sum_of_neigh\n",
    "    \n",
    "    print ('The page rank of node {} is {}'.format(intereset_node , PR_t[intereset_node] ))\n",
    "    return PR_t[intereset_node]"
   ]
  },
  {
   "cell_type": "code",
   "execution_count": 26,
   "id": "d9a1b9db",
   "metadata": {},
   "outputs": [
    {
     "name": "stdout",
     "output_type": "stream",
     "text": [
      "The page rank of node 1 is 0.002636417216892069\n"
     ]
    }
   ],
   "source": [
    "PageRank(combined_graph , 1 )"
   ]
  },
  {
   "cell_type": "code",
   "execution_count": 17,
   "id": "148de112",
   "metadata": {},
   "outputs": [],
   "source": [
    "def Dijkstra (G , source_node , target_node):\n",
    "    dist = {node : float('inf') for node in list(G.nodes)}\n",
    "    prev = {node : None for node in list(G.nodes)}\n",
    "    \n",
    "    unvisited_nodes = list(G.nodes)\n",
    "    dist[source_node] = 0\n",
    "    \n",
    "    \n",
    "    while unvisited_nodes :\n",
    "        min_dist = float('inf')\n",
    "        \n",
    "        for node in unvisited_nodes :\n",
    "            if dist[node] <= min_dist:\n",
    "                min_dist = dist[node]\n",
    "                current = node\n",
    "        unvisited_nodes.remove(current)\n",
    "        \n",
    "        if current == target_node :\n",
    "            break\n",
    "        \n",
    "        for neighbor in G.neighbors(current) :\n",
    "            alt = dist[current] + G[current][neighbor]['weight']\n",
    "            \n",
    "            if alt < dist[neighbor] :\n",
    "                dist[neighbor] = alt\n",
    "                prev[neighbor] = current\n",
    "            \n",
    "        \n",
    "    if prev[target_node] == None :\n",
    "        return ('Disconnected',[])\n",
    "        \n",
    "    path = [target_node]\n",
    "        \n",
    "    while source_node not in path :\n",
    "        path.append(prev[path[-1]])\n",
    "    path.reverse()\n",
    "        \n",
    "    return dist[target_node],path\n",
    "    \n",
    "\n",
    "def ClosenessCentrality (G , interest_node) :\n",
    "    all_nodes = list(G.nodes)\n",
    "    C_interest = 0\n",
    "    reachable_nodes = G.out_degree(interest_node) -1\n",
    "    \n",
    "    \n",
    "    for node in all_nodes :\n",
    "        distance_sum = 0\n",
    "        if node != interest_node:\n",
    "            distance,path = Dijkstra ( G , source_node = interest_node , target_node = node)\n",
    "            if distance != 0 :\n",
    "                C_interest += distance\n",
    "                \n",
    "    if C_interest > 0 :\n",
    "        print('the closness centrality of node {} is {}'.format(interest_node , (len(all_nodes)-1 )/ C_interest ))\n",
    "        return (len(all_nodes)-1 )/ C_interest\n",
    "    else :\n",
    "        print ('The closness centrality of node {} is 0'.format(interest_node))"
   ]
  },
  {
   "cell_type": "code",
   "execution_count": 32,
   "id": "5428703d",
   "metadata": {},
   "outputs": [
    {
     "name": "stdout",
     "output_type": "stream",
     "text": [
      "the closness centrality of node 1 is 0.5360294117647059\n"
     ]
    },
    {
     "data": {
      "text/plain": [
       "0.5360294117647059"
      ]
     },
     "execution_count": 32,
     "metadata": {},
     "output_type": "execute_result"
    }
   ],
   "source": [
    "ClosenessCentrality(combined_graph , 1 )"
   ]
  },
  {
   "cell_type": "code",
   "execution_count": 18,
   "id": "47fb9ff0",
   "metadata": {},
   "outputs": [],
   "source": [
    "def degree_calculator (G , node):\n",
    "    if isDirect(G):\n",
    "        degree = len(G.in_edges(node) + G.out_edges(node))\n",
    "    else :\n",
    "        degree = len(list(G.neighbors(node)))\n",
    "    return degree\n",
    "\n",
    "def DegreeCentrality (G , interest_node) :\n",
    "    n_edges = len(G.edges)\n",
    "    degree = degree_calculator(G , interest_node)\n",
    "    degree_centrality = degree / (n_edges)\n",
    "    \n",
    "    print('The degree centrality of node {} is {}'.format(interest_node, degree_centrality))\n",
    "    return degree_centrality"
   ]
  },
  {
   "cell_type": "code",
   "execution_count": 20,
   "id": "94b29bdf",
   "metadata": {},
   "outputs": [],
   "source": [
    "def BestUser (G ,  node , start_time , end_time , metric) :\n",
    "    s_tstmp = convert_date(start_time)\n",
    "    e_tstmp = convert_date(end_time)\n",
    "    \n",
    "    edges = [(s , t , attr) for s,t,attr in G.edges(data = True) if s_tstmp < attr['tstmp'][0] < e_tstmp]\n",
    "    new_G = nx.DiGraph()\n",
    "    new_G.add_edges_from(edges)\n",
    "\n",
    "    if metric == 'Betweeness' :\n",
    "        return Betweeness(new_G,node)\n",
    "    elif metric == \"PageRank\" :\n",
    "        return PageRank(new_G, node)\n",
    "    elif metric == \"ClosenessCentrality\":\n",
    "        return ClosenessCentrality(new_G,node)\n",
    "    elif metric == \"DegreeCentrality\":\n",
    "        return DegreeCentrality(new_G , node)\n",
    "    else:\n",
    "        raise(\"Metric Not Allowed\")"
   ]
  },
  {
   "cell_type": "code",
   "execution_count": 21,
   "id": "d48444ef",
   "metadata": {},
   "outputs": [
    {
     "ename": "TypeError",
     "evalue": "unsupported operand type(s) for +=: 'int' and 'str'",
     "output_type": "error",
     "traceback": [
      "\u001b[0;31m---------------------------------------------------------------------------\u001b[0m",
      "\u001b[0;31mTypeError\u001b[0m                                 Traceback (most recent call last)",
      "Input \u001b[0;32mIn [21]\u001b[0m, in \u001b[0;36m<cell line: 1>\u001b[0;34m()\u001b[0m\n\u001b[0;32m----> 1\u001b[0m \u001b[43mBestUser\u001b[49m\u001b[43m(\u001b[49m\u001b[43mcombined_graph\u001b[49m\u001b[43m \u001b[49m\u001b[43m,\u001b[49m\u001b[38;5;241;43m31505\u001b[39;49m\u001b[43m,\u001b[49m\u001b[43m \u001b[49m\u001b[38;5;124;43m'\u001b[39;49m\u001b[38;5;124;43m2008/09/01\u001b[39;49m\u001b[38;5;124;43m'\u001b[39;49m\u001b[43m,\u001b[49m\u001b[43m \u001b[49m\u001b[38;5;124;43m'\u001b[39;49m\u001b[38;5;124;43m2008/09/30\u001b[39;49m\u001b[38;5;124;43m'\u001b[39;49m\u001b[43m,\u001b[49m\u001b[43m \u001b[49m\u001b[38;5;124;43m'\u001b[39;49m\u001b[38;5;124;43mClosenessCentrality\u001b[39;49m\u001b[38;5;124;43m'\u001b[39;49m\u001b[43m)\u001b[49m\n",
      "Input \u001b[0;32mIn [20]\u001b[0m, in \u001b[0;36mBestUser\u001b[0;34m(G, node, start_time, end_time, metric)\u001b[0m\n\u001b[1;32m     12\u001b[0m     \u001b[38;5;28;01mreturn\u001b[39;00m PageRank(new_G, node)\n\u001b[1;32m     13\u001b[0m \u001b[38;5;28;01melif\u001b[39;00m metric \u001b[38;5;241m==\u001b[39m \u001b[38;5;124m\"\u001b[39m\u001b[38;5;124mClosenessCentrality\u001b[39m\u001b[38;5;124m\"\u001b[39m:\n\u001b[0;32m---> 14\u001b[0m     \u001b[38;5;28;01mreturn\u001b[39;00m \u001b[43mClosenessCentrality\u001b[49m\u001b[43m(\u001b[49m\u001b[43mnew_G\u001b[49m\u001b[43m,\u001b[49m\u001b[43mnode\u001b[49m\u001b[43m)\u001b[49m\n\u001b[1;32m     15\u001b[0m \u001b[38;5;28;01melif\u001b[39;00m metric \u001b[38;5;241m==\u001b[39m \u001b[38;5;124m\"\u001b[39m\u001b[38;5;124mDegreeCentrality\u001b[39m\u001b[38;5;124m\"\u001b[39m:\n\u001b[1;32m     16\u001b[0m     \u001b[38;5;28;01mreturn\u001b[39;00m DegreeCentrality(new_G , node)\n",
      "Input \u001b[0;32mIn [17]\u001b[0m, in \u001b[0;36mClosenessCentrality\u001b[0;34m(G, interest_node)\u001b[0m\n\u001b[1;32m     50\u001b[0m         distance,path \u001b[38;5;241m=\u001b[39m Dijkstra ( G , source_node \u001b[38;5;241m=\u001b[39m interest_node , target_node \u001b[38;5;241m=\u001b[39m node)\n\u001b[1;32m     51\u001b[0m         \u001b[38;5;28;01mif\u001b[39;00m distance \u001b[38;5;241m!=\u001b[39m \u001b[38;5;241m0\u001b[39m :\n\u001b[0;32m---> 52\u001b[0m             C_interest \u001b[38;5;241m+\u001b[39m\u001b[38;5;241m=\u001b[39m distance\n\u001b[1;32m     54\u001b[0m \u001b[38;5;28;01mif\u001b[39;00m C_interest \u001b[38;5;241m>\u001b[39m \u001b[38;5;241m0\u001b[39m :\n\u001b[1;32m     55\u001b[0m     \u001b[38;5;28mprint\u001b[39m(\u001b[38;5;124m'\u001b[39m\u001b[38;5;124mthe closness centrality of node \u001b[39m\u001b[38;5;132;01m{}\u001b[39;00m\u001b[38;5;124m is \u001b[39m\u001b[38;5;132;01m{}\u001b[39;00m\u001b[38;5;124m'\u001b[39m\u001b[38;5;241m.\u001b[39mformat(interest_node , (\u001b[38;5;28mlen\u001b[39m(all_nodes)\u001b[38;5;241m-\u001b[39m\u001b[38;5;241m1\u001b[39m )\u001b[38;5;241m/\u001b[39m C_interest ))\n",
      "\u001b[0;31mTypeError\u001b[0m: unsupported operand type(s) for +=: 'int' and 'str'"
     ]
    }
   ],
   "source": [
    "BestUser(combined_graph , 31505 , '2008/09/01', '2008/09/30', 'ClosenessCentrality')"
   ]
  },
  {
   "cell_type": "markdown",
   "id": "a71d5d98",
   "metadata": {},
   "source": [
    "# Exercise 3"
   ]
  },
  {
   "cell_type": "code",
   "execution_count": null,
   "id": "2cc06216",
   "metadata": {},
   "outputs": [],
   "source": [
    "def ShortOrferedRoute (G , users , source , target):\n",
    "    total_dist = 0\n",
    "    full_path = [source]\n",
    "    users_bis = [source]+users+[target]\n",
    "      \n",
    "    for i in range ( len(users_bis) -1) :\n",
    "        dist , path = Dijkstra(G,users_bis[i],users_bis[i+1]) \n",
    "        if dist == \"Disconnected\" :\n",
    "            return \"Disconnected\"\n",
    "        total_dist += dist\n",
    "        full_path += path[1:]\n",
    "    full_path = [int(i) for i in full_path ]\n",
    "    return total_dist , full_path"
   ]
  },
  {
   "cell_type": "code",
   "execution_count": null,
   "id": "a3c04592",
   "metadata": {},
   "outputs": [],
   "source": [
    "ShortOrferedRoute ( combined_graph , [ 124 , 285 ] , 624,1238)"
   ]
  },
  {
   "cell_type": "markdown",
   "id": "64f4faab",
   "metadata": {},
   "source": [
    "# Exercise 4"
   ]
  },
  {
   "cell_type": "code",
   "execution_count": null,
   "id": "c5b1808e",
   "metadata": {},
   "outputs": [],
   "source": [
    "def DisconnectingGraph (G , df , start_1 , end_1 , start_2 , end_2) :\n",
    "    list_pairs_graph1 = []\n",
    "    list_pairs_graph2 = []\n",
    "    links_graph1 = 0\n",
    "    weight_graph1 = 0\n",
    "    links_graph2 = 0\n",
    "    weight_graph2 = 0\n",
    "    \n",
    "    \n",
    "    Graph1 = nx.DiGraph()\n",
    "    Graph2 = nx.DiGraph()\n",
    "    \n",
    "    #Convert the date to timestamp\n",
    "    s_tstmp1 = convert_date(start_1)\n",
    "    e_tstmp1 = convert_date(end_1)\n",
    "    s_tstmp2 = convert_date(start_2)\n",
    "    e_tstmp2 = convert_date(end_2)\n",
    "    \n",
    "    \n",
    "    #Create two dataframes containing only the interaction in the intereset nteval\n",
    "    filtered_1 = filterGraph( df , s_tstmp1 , e_tstmp1 )\n",
    "    filtered_2 = filterGraph( df , s_tstmp2 , e_tstmp2 )\n",
    "    \n",
    "    \n",
    "    #Create a weighted graph\n",
    "    filtered_1.apply(lambda x :graphWeighter( Graph1 , x) , axis=1)\n",
    "    filtered_2.apply(lambda x :graphWeighter( Graph2 , x) , axis=1)\n",
    "    \n",
    "    \n",
    "    #Find users\n",
    "    \n",
    "    user_1 = findUsers(Graph1 , Graph2)\n",
    "    user_2 = findUsers(Graph2 , Graph1)\n",
    "    \n",
    "    #Find all nodes deinited in both the graphs\n",
    "    nodes_both_graph = []\n",
    "    for node in list(Graph1.nodes):\n",
    "        if node in list(Graph2.nodes):\n",
    "            nodes_both_graph.append(node)\n",
    "        \n",
    "        \n",
    "    for element in nodes_both_graph :\n",
    "        for _ , checkPoint , attr in Graph1.edges(element , data = True):\n",
    "            list_pairs_graph1.append((element , checkPoint))\n",
    "            links_graph1 +=1\n",
    "            weight_graph1 += attr['weight']\n",
    "    \n",
    "    for element in nodes_both_graph :\n",
    "        for _ , checkPoint , attr in Graph2.edges(element , data = True):\n",
    "            list_pairs_graph2.append((element , checkPoint))\n",
    "            links_graph2 +=1\n",
    "            weight_graph2 += attr['weight']\n",
    "    \n",
    "    \n",
    "    if (links_graph1 < links_graph2) :\n",
    "        return Graph1, Graph2 , nodes_both_graph , list_pairs_graph1\n",
    "    else :\n",
    "        return Graph1, Graph2 , nodes_both_graph , list_pairs_graph2"
   ]
  },
  {
   "cell_type": "code",
   "execution_count": null,
   "id": "02f3b491",
   "metadata": {},
   "outputs": [],
   "source": [
    "def findUsers (G1, G2):\n",
    "    for node in list(G1.nodes):\n",
    "        if node not in G2.nodes:\n",
    "            return node\n",
    "    return ValueError(\"Graphs are defined on the same nodes\")"
   ]
  },
  {
   "cell_type": "code",
   "execution_count": null,
   "id": "9911125b",
   "metadata": {},
   "outputs": [],
   "source": [
    "def frontEnd1 (Graph , start_time , end_time) :\n",
    "    s_tstmp = convert_date (start_time) \n",
    "    e_tstmp = convert_date (end_time)\n",
    "    \n",
    "    #edges in the graph during the time interval\n",
    "    edges = [(s , t , attr) for s,t,attr in Graph.edges(data = True) if s_tstmp < attr['tstmp'][0] < e_tstmp]\n",
    "    \n",
    "    H = nx.DiGraph()\n",
    "    H.add_edges_from(edges)\n",
    "    overall_features = GraphDescription(Graph)\n",
    "    \n",
    "    df = pd.DataFrame(overall_features , [\"NumberOfUsers\", \"NumberOfAnswers/Comments\", \"Directed\", \n",
    "                                         \"AverageLinksPerUser\", \"DensityDegree\", \"Sparse/Dense\"])\n",
    "    \n",
    "    df.columns = ['OverallFeatures']\n",
    "    \n",
    "    display(df)\n",
    "    \n",
    "    #plot degree distribution\n",
    "    \n",
    "    degree = [degree_calculator(Graph , node) for node in list(Graph.nodes())]\n",
    "    plt.title('Digree Distribution')\n",
    "    plt.hist(degree)\n",
    "    plt.show()"
   ]
  },
  {
   "cell_type": "code",
   "execution_count": null,
   "id": "fe3772c9",
   "metadata": {},
   "outputs": [],
   "source": [
    "frontEnd1(combined_graph, '2008/08/01', '2008/08/15')"
   ]
  },
  {
   "cell_type": "code",
   "execution_count": null,
   "id": "1b934e71",
   "metadata": {},
   "outputs": [],
   "source": [
    "def split_equally(start_date, end_date, intervals):\n",
    "    test_date1 = datetime.datetime.strptime(start_date, '%Y/%m/%d')\n",
    "    test_date2 = datetime.datetime.strptime(end_date, '%Y/%m/%d')\n",
    "    temp =[]\n",
    "    diff = (test_date2 - test_date1) // intervals\n",
    "    for idx in range(0 , intervals) :\n",
    "        temp.append(test_date1 + idx * diff)\n",
    "        \n",
    "    res = []\n",
    "    \n",
    "    for sub in temp :\n",
    "        res.append(sub.strftime(\"%Y/%m/%d\") )\n",
    "    res.append(end_date)\n",
    "    return res\n",
    "    \n",
    "    \n",
    "def frontEnd2(Graph , interest_node , start_time , end_time , metric):\n",
    "    plot_nodes = [interest_node] + list(Graph.neighbors(interest_node))\n",
    "    plot_nodes = [int(i) for i in plot_nodes]\n",
    "    score = []\n",
    "    \n",
    "    H = Graph.subgraph(plot_nodes)\n",
    "    \n",
    "    plt.figure(figsize=(10 , 5 ))\n",
    "    plt.figure(1)\n",
    "    plt.title(\"Node {} and its neighbors\".format(interest_node))\n",
    "    color_map = ['#9e2a2b' if node == interest_node else '#e09f3e' for node in H]\n",
    "    pos=nx.spring_layout(H,scale=2)\n",
    "    nx.draw(H, with_labels = True, node_color=color_map,pos = pos, alpha = 0.7)\n",
    "    \n",
    "    \n",
    "    interval_number = 5\n",
    "    intervals = split_equally(start_time,end_time, interval_number)\n",
    "    for i in range(interval_number):\n",
    "        start = intervals[i]\n",
    "        end = intervals[i+1]\n",
    "        try :\n",
    "            score.append( BestUser(H ,  interest_node , start , end , metric))\n",
    "        except :\n",
    "            score.append(0)\n",
    "        \n",
    "    #print(\"score : {}\".format(score))\n",
    "    label_x = [f'{[intervals[i],intervals[i+1]]}' for i in range(len(intervals)-1)]\n",
    "    \n",
    "    plt.figure(2)\n",
    "    plt.title('Score during time')\n",
    "    \n",
    "    plt.xticks(rotation=45, ha='right')\n",
    "    plt.bar(label_x, score, color = '#335c67')"
   ]
  },
  {
   "cell_type": "code",
   "execution_count": null,
   "id": "fa215518",
   "metadata": {},
   "outputs": [],
   "source": [
    "frontEnd2(combined_graph, 31505, '2008/09/01', '2008/09/30', 'DegreeCentrality')"
   ]
  },
  {
   "cell_type": "code",
   "execution_count": null,
   "id": "cff94814",
   "metadata": {},
   "outputs": [],
   "source": [
    "def fronEnd3(G, users , source , target ):\n",
    "    short_path = ShortOrferedRoute(G , users , source , target)\n",
    "    \n",
    "    H = nx.DiGraph()\n",
    "    \n",
    "    route = short_path[1]\n",
    "    for i in range(len(route)-1) :\n",
    "        H.add_edge(route[i] , route[i+1])\n",
    "    \n",
    "    layout = nx.spring_layout(H,scale=2)\n",
    "    nx.draw_networkx_nodes (H , pos = layout , nodelist = [source] , node_color = \"#9e2a2b\" , label = \"Initial User of path\",\n",
    "                           node_size = 100 , alpha = 0.5)\n",
    "    nx.draw_networkx_nodes (H , pos = layout , nodelist = [target] , node_color = \"#335c67\" , label = \"End User of path\",\n",
    "                           node_size = 100 , alpha = 0.5)\n",
    "    nx.draw_networkx_nodes (H , pos = layout , nodelist = users , node_color = \"#e09f3e\" , label = \"Constrain Users of path\",\n",
    "                           node_size = 100 , alpha = 0.5)\n",
    "    nx.draw_networkx_nodes (H , pos = layout , nodelist = route , node_color = '#fff3b0' , label = \"Users\",\n",
    "                           node_size = 100 , alpha = 0.5)\n",
    "    plt.tight_layout()\n",
    "    plt.legend(scatterpoints = 1 , markerscale = 0.4)\n",
    "    color_map = ['#9e2a2b' if node == source else '#335c67' if node == target else '#e09f3e' if node in users else '#fff3b0' for node in H]\n",
    "    \n",
    "    nx.draw(H , with_labels = True , node_color = color_map , alpha = 0.7 , pos = layout , arrowsize = 20 , connectionstyle='arc3,rad=0.05', node_size = 1000)"
   ]
  },
  {
   "cell_type": "code",
   "execution_count": null,
   "id": "bd101955",
   "metadata": {},
   "outputs": [],
   "source": [
    "fronEnd3(combined_graph,[2,5],1,8)"
   ]
  },
  {
   "cell_type": "code",
   "execution_count": null,
   "id": "bff1b61d",
   "metadata": {},
   "outputs": [],
   "source": [
    "MainGraph, SecondGraph, list_intersection, list_couples = DisconnectingGraph(combined_graph ,  atq , '2008/08/01', '2008/08/10' ,'2008/09/01', '2008/09/10'  )\n",
    "\n",
    "plt.figure(figsize = (20 , 10))\n",
    "plt.subplot(121)\n",
    "nx.draw(MainGraph , with_labels = True , edge_color= \"grey\" )\n",
    "\n",
    "plt.subplot(122)\n",
    "nx.draw(SecondGraph , with_labels=True , node_color = 'green' , edge_color = 'green')\n",
    "\n",
    "plt.figure(figsize = (20,20))\n",
    "mergeGraph = nx.compose(MainGraph , SecondGraph)\n",
    "pos = nx.spring_layout(mergeGraph)\n",
    "nx.draw(mergeGraph , with_labels=True , pos = pos , edge_color = 'blue')\n",
    "nx.draw_networkx_edges(mergeGraph , pos = pos , edgelist=SecondGraph.edges(data=True) , edge_color='green')\n",
    "\n",
    "nx.draw_networkx_nodes(mergeGraph , nodelist= list_intersection , node_color = '#D90368', pos=pos, node_size=1000)\n",
    "nx.draw_networkx_edges(mergeGraph, edgelist=list_couples, width=5.0,  pos=pos, edge_color='#D90368')\n",
    "plt.show()"
   ]
  },
  {
   "cell_type": "code",
   "execution_count": null,
   "id": "42f5ab8d",
   "metadata": {},
   "outputs": [],
   "source": []
  }
 ],
 "metadata": {
  "kernelspec": {
   "display_name": "Python 3 (ipykernel)",
   "language": "python",
   "name": "python3"
  },
  "language_info": {
   "codemirror_mode": {
    "name": "ipython",
    "version": 3
   },
   "file_extension": ".py",
   "mimetype": "text/x-python",
   "name": "python",
   "nbconvert_exporter": "python",
   "pygments_lexer": "ipython3",
   "version": "3.9.12"
  }
 },
 "nbformat": 4,
 "nbformat_minor": 5
}
